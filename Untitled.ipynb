{
 "cells": [
  {
   "cell_type": "code",
   "execution_count": 1,
   "id": "70b7a6d6",
   "metadata": {},
   "outputs": [
    {
     "data": {
      "text/plain": [
       "['departments', 'cities', 'rivers']"
      ]
     },
     "execution_count": 1,
     "metadata": {},
     "output_type": "execute_result"
    }
   ],
   "source": [
    "import os\n",
    "os.environ['USE_PYGEOS'] = '0'\n",
    "\n",
    "import geopandas as gpd\n",
    "from  fiona import listlayers\n",
    "\n",
    "#mapas\n",
    "BoliviaMapas='https://github.com/FabianRomero20/geodfprepro1.2/raw/main/maps/worldMaps.gpkg'\n",
    "\n",
    "#capas en los mapas\n",
    "listlayers(BoliviaMapas)"
   ]
  },
  {
   "cell_type": "code",
   "execution_count": 2,
   "id": "ae77e827",
   "metadata": {},
   "outputs": [],
   "source": [
    "departments=gpd.read_file(BoliviaMapas,layer='departments')\n",
    "cities=gpd.read_file(BoliviaMapas,layer='cities')\n",
    "rivers=gpd.read_file(BoliviaMapas,layer='rivers')"
   ]
  },
  {
   "cell_type": "code",
   "execution_count": 3,
   "id": "0c4e3567",
   "metadata": {},
   "outputs": [
    {
     "data": {
      "text/plain": [
       "True"
      ]
     },
     "execution_count": 3,
     "metadata": {},
     "output_type": "execute_result"
    }
   ],
   "source": [
    "departments.crs.to_epsg()==cities.crs.to_epsg()==rivers.crs.to_epsg()"
   ]
  },
  {
   "cell_type": "code",
   "execution_count": 4,
   "id": "1f0ac31b",
   "metadata": {},
   "outputs": [
    {
     "data": {
      "text/plain": [
       "<Geographic 2D CRS: EPSG:4326>\n",
       "Name: WGS 84\n",
       "Axis Info [ellipsoidal]:\n",
       "- Lat[north]: Geodetic latitude (degree)\n",
       "- Lon[east]: Geodetic longitude (degree)\n",
       "Area of Use:\n",
       "- undefined\n",
       "Datum: World Geodetic System 1984\n",
       "- Ellipsoid: WGS 84\n",
       "- Prime Meridian: Greenwich"
      ]
     },
     "execution_count": 4,
     "metadata": {},
     "output_type": "execute_result"
    }
   ],
   "source": [
    "departments.crs"
   ]
  },
  {
   "cell_type": "code",
   "execution_count": 5,
   "id": "eebb81d4",
   "metadata": {},
   "outputs": [],
   "source": [
    "# país elegido\n",
    "Bolivia=gpd.read_file(os.path.join(\"maps\",\"Departamentos\",\"departamentos_geo.shp\"))"
   ]
  },
  {
   "cell_type": "code",
   "execution_count": 6,
   "id": "e1f14c8f",
   "metadata": {},
   "outputs": [
    {
     "data": {
      "text/plain": [
       "<Geographic 2D CRS: GEOGCS[\"WGS 84\",DATUM[\"WGS_1984\",SPHEROID[\"WGS 84\" ...>\n",
       "Name: WGS 84\n",
       "Axis Info [ellipsoidal]:\n",
       "- lon[east]: Longitude (Degree)\n",
       "- lat[north]: Latitude (Degree)\n",
       "Area of Use:\n",
       "- undefined\n",
       "Datum: World Geodetic System 1984\n",
       "- Ellipsoid: WGS 84\n",
       "- Prime Meridian: Greenwich"
      ]
     },
     "execution_count": 6,
     "metadata": {},
     "output_type": "execute_result"
    }
   ],
   "source": [
    "Bolivia.crs"
   ]
  },
  {
   "cell_type": "code",
   "execution_count": 11,
   "id": "6b48d93f",
   "metadata": {},
   "outputs": [
    {
     "data": {
      "text/plain": [
       "<Geographic 2D CRS: EPSG:4326>\n",
       "Name: WGS 84\n",
       "Axis Info [ellipsoidal]:\n",
       "- Lat[north]: Geodetic latitude (degree)\n",
       "- Lon[east]: Geodetic longitude (degree)\n",
       "Area of Use:\n",
       "- name: World\n",
       "- bounds: (-180.0, -90.0, 180.0, 90.0)\n",
       "Datum: World Geodetic System 1984\n",
       "- Ellipsoid: WGS 84\n",
       "- Prime Meridian: Greenwich"
      ]
     },
     "execution_count": 11,
     "metadata": {},
     "output_type": "execute_result"
    }
   ],
   "source": [
    "crs_común = 'EPSG:4326'\n",
    "Bolivia.crs=crs_común\n",
    "Bolivia.crs"
   ]
  },
  {
   "cell_type": "code",
   "execution_count": 12,
   "id": "dc964509",
   "metadata": {},
   "outputs": [
    {
     "data": {
      "text/plain": [
       "[Axis(name=Geodetic latitude, abbrev=Lat, direction=north, unit_auth_code=EPSG, unit_code=9122, unit_name=degree),\n",
       " Axis(name=Geodetic longitude, abbrev=Lon, direction=east, unit_auth_code=EPSG, unit_code=9122, unit_name=degree)]"
      ]
     },
     "execution_count": 12,
     "metadata": {},
     "output_type": "execute_result"
    }
   ],
   "source": [
    "# unit is in degrees:\n",
    "Bolivia.crs.axis_info"
   ]
  },
  {
   "cell_type": "code",
   "execution_count": 13,
   "id": "23755a74",
   "metadata": {},
   "outputs": [
    {
     "name": "stderr",
     "output_type": "stream",
     "text": [
      "C:\\Users\\INTEL\\AppData\\Local\\Temp\\ipykernel_4800\\3304854064.py:2: UserWarning: Geometry is in a geographic CRS. Results from 'centroid' are likely incorrect. Use 'GeoSeries.to_crs()' to re-project geometries to a projected CRS before this operation.\n",
      "\n",
      "  Bolivia.centroid\n"
     ]
    },
    {
     "data": {
      "text/plain": [
       "0    POINT (-65.63603 -17.23549)\n",
       "1    POINT (-66.72488 -20.54977)\n",
       "2    POINT (-63.87890 -21.59617)\n",
       "3    POINT (-61.52178 -17.21449)\n",
       "4    POINT (-67.32297 -11.09371)\n",
       "5    POINT (-67.68817 -18.64090)\n",
       "6    POINT (-64.27660 -20.04619)\n",
       "7    POINT (-65.27255 -13.78423)\n",
       "8    POINT (-68.10663 -15.21236)\n",
       "dtype: geometry"
      ]
     },
     "execution_count": 13,
     "metadata": {},
     "output_type": "execute_result"
    }
   ],
   "source": [
    "# centroid\n",
    "Bolivia.centroid"
   ]
  },
  {
   "cell_type": "code",
   "execution_count": 14,
   "id": "57c1805b",
   "metadata": {},
   "outputs": [],
   "source": [
    "#obtenemos el centroide de nuestro país\n",
    "centroideBolivia = Bolivia.geometry.unary_union.centroid"
   ]
  },
  {
   "cell_type": "code",
   "execution_count": 15,
   "id": "f996839c",
   "metadata": {},
   "outputs": [
    {
     "name": "stdout",
     "output_type": "stream",
     "text": [
      "-64.64508939234986 -16.717531247599613\n"
     ]
    }
   ],
   "source": [
    "#imprimimos las coordenadas del centroide del nuestro país\n",
    "print(centroideBolivia.x, centroideBolivia.y)\n",
    "#HASTA AQUI ESTA TODO BIEN, NO MUEVAS NADA XD\n",
    "#HASTA AQUI ESTA TODO BIEN, NO MUEVAS NADA XD\n",
    "#HASTA AQUI ESTA TODO BIEN, NO MUEVAS NADA XD\n",
    "#HASTA AQUI ESTA TODO BIEN, NO MUEVAS NADA XD\n",
    "#HASTA AQUI ESTA TODO BIEN, NO MUEVAS NADA XD"
   ]
  },
  {
   "cell_type": "code",
   "execution_count": 16,
   "id": "99cb2ac2",
   "metadata": {},
   "outputs": [
    {
     "data": {
      "text/plain": [
       "<Projected CRS: EPSG:32719>\n",
       "Name: WGS 84 / UTM zone 19S\n",
       "Axis Info [cartesian]:\n",
       "- E[east]: Easting (metre)\n",
       "- N[north]: Northing (metre)\n",
       "Area of Use:\n",
       "- name: World - S hemisphere - 72°W to 66°W - by country\n",
       "- bounds: (-72.0, -80.0, -66.0, 0.0)\n",
       "Coordinate Operation:\n",
       "- name: UTM zone 19S\n",
       "- method: Transverse Mercator\n",
       "Datum: World Geodetic System 1984\n",
       "- Ellipsoid: WGS 84\n",
       "- Prime Meridian: Greenwich"
      ]
     },
     "execution_count": 16,
     "metadata": {},
     "output_type": "execute_result"
    }
   ],
   "source": [
    "crs_proyectado = 'EPSG:32719'\n",
    "Bolivia.crs=crs_proyectado\n",
    "Bolivia.crs"
   ]
  },
  {
   "cell_type": "code",
   "execution_count": 17,
   "id": "b5ceef2a",
   "metadata": {},
   "outputs": [
    {
     "data": {
      "text/plain": [
       "[Axis(name=Easting, abbrev=E, direction=east, unit_auth_code=EPSG, unit_code=9001, unit_name=metre),\n",
       " Axis(name=Northing, abbrev=N, direction=north, unit_auth_code=EPSG, unit_code=9001, unit_name=metre)]"
      ]
     },
     "execution_count": 17,
     "metadata": {},
     "output_type": "execute_result"
    }
   ],
   "source": [
    "Bolivia.crs.axis_info"
   ]
  },
  {
   "cell_type": "code",
   "execution_count": 19,
   "id": "854caaae",
   "metadata": {},
   "outputs": [],
   "source": [
    "# Transformar el CRS al proyectado en metros\n",
    "Bolivia_proyectado = Bolivia.to_crs(crs_proyectado)"
   ]
  },
  {
   "cell_type": "code",
   "execution_count": 20,
   "id": "215a0400",
   "metadata": {},
   "outputs": [],
   "source": [
    "# Calcular el centroide en el CRS proyectado\n",
    "centroides_proyectados = Bolivia_proyectado.centroid"
   ]
  },
  {
   "cell_type": "code",
   "execution_count": 21,
   "id": "7db582c5",
   "metadata": {},
   "outputs": [
    {
     "name": "stdout",
     "output_type": "stream",
     "text": [
      "0    POINT (-65.636 -17.235)\n",
      "1    POINT (-66.725 -20.550)\n",
      "2    POINT (-63.879 -21.596)\n",
      "3    POINT (-61.522 -17.214)\n",
      "4    POINT (-67.323 -11.094)\n",
      "5    POINT (-67.688 -18.641)\n",
      "6    POINT (-64.277 -20.046)\n",
      "7    POINT (-65.273 -13.784)\n",
      "8    POINT (-68.107 -15.212)\n",
      "dtype: geometry\n"
     ]
    }
   ],
   "source": [
    "# Mostrar los resultados\n",
    "print(centroides_proyectados)"
   ]
  },
  {
   "cell_type": "code",
   "execution_count": 22,
   "id": "67ec69a9",
   "metadata": {},
   "outputs": [
    {
     "name": "stdout",
     "output_type": "stream",
     "text": [
      "-64.64508939234986 -16.717531247599613\n"
     ]
    }
   ],
   "source": [
    "#obtenemos el centroide del nuestro país\n",
    "centroide_Bolivia = Bolivia_proyectado.geometry.unary_union.centroid\n",
    "\n",
    "#imprimimos las coordenadas del centroide del nuestro país\n",
    "print(centroide_Bolivia.x, centroide_Bolivia.y)"
   ]
  },
  {
   "cell_type": "code",
   "execution_count": 23,
   "id": "adfc4c29",
   "metadata": {},
   "outputs": [
    {
     "ename": "ProjError",
     "evalue": "x, y, z, and time must be same size",
     "output_type": "error",
     "traceback": [
      "\u001b[1;31m---------------------------------------------------------------------------\u001b[0m",
      "\u001b[1;31mProjError\u001b[0m                                 Traceback (most recent call last)",
      "\u001b[1;32m~\\AppData\\Local\\Temp\\ipykernel_4800\\4095756916.py\u001b[0m in \u001b[0;36m<module>\u001b[1;34m\u001b[0m\n\u001b[0;32m      1\u001b[0m \u001b[1;31m# ploteamos esta versión proyectada, la que es \"mejor\"\u001b[0m\u001b[1;33m\u001b[0m\u001b[1;33m\u001b[0m\u001b[0m\n\u001b[1;32m----> 2\u001b[1;33m \u001b[0mbaseBolvia32719\u001b[0m \u001b[1;33m=\u001b[0m \u001b[0mBolivia\u001b[0m\u001b[1;33m.\u001b[0m\u001b[0mto_crs\u001b[0m\u001b[1;33m(\u001b[0m\u001b[1;36m24891\u001b[0m\u001b[1;33m)\u001b[0m\u001b[1;33m.\u001b[0m\u001b[0mplot\u001b[0m\u001b[1;33m(\u001b[0m\u001b[1;33m)\u001b[0m\u001b[1;33m\u001b[0m\u001b[1;33m\u001b[0m\u001b[0m\n\u001b[0m\u001b[0;32m      3\u001b[0m \u001b[0mgpd\u001b[0m\u001b[1;33m.\u001b[0m\u001b[0mGeoSeries\u001b[0m\u001b[1;33m(\u001b[0m\u001b[1;33m[\u001b[0m\u001b[0mcentroide_Bolivia\u001b[0m\u001b[1;33m]\u001b[0m\u001b[1;33m)\u001b[0m\u001b[1;33m.\u001b[0m\u001b[0mplot\u001b[0m\u001b[1;33m(\u001b[0m\u001b[0mcolor\u001b[0m\u001b[1;33m=\u001b[0m\u001b[1;34m'red'\u001b[0m\u001b[1;33m,\u001b[0m \u001b[0max\u001b[0m\u001b[1;33m=\u001b[0m\u001b[0mbaseBolvia32719\u001b[0m\u001b[1;33m,\u001b[0m \u001b[0mmarkersize\u001b[0m\u001b[1;33m=\u001b[0m\u001b[1;36m50\u001b[0m\u001b[1;33m)\u001b[0m\u001b[1;33m\u001b[0m\u001b[1;33m\u001b[0m\u001b[0m\n",
      "\u001b[1;32m~\\anaconda3\\lib\\site-packages\\geopandas\\geodataframe.py\u001b[0m in \u001b[0;36mto_crs\u001b[1;34m(self, crs, epsg, inplace)\u001b[0m\n\u001b[0;32m   1362\u001b[0m         \u001b[1;32melse\u001b[0m\u001b[1;33m:\u001b[0m\u001b[1;33m\u001b[0m\u001b[1;33m\u001b[0m\u001b[0m\n\u001b[0;32m   1363\u001b[0m             \u001b[0mdf\u001b[0m \u001b[1;33m=\u001b[0m \u001b[0mself\u001b[0m\u001b[1;33m.\u001b[0m\u001b[0mcopy\u001b[0m\u001b[1;33m(\u001b[0m\u001b[1;33m)\u001b[0m\u001b[1;33m\u001b[0m\u001b[1;33m\u001b[0m\u001b[0m\n\u001b[1;32m-> 1364\u001b[1;33m         \u001b[0mgeom\u001b[0m \u001b[1;33m=\u001b[0m \u001b[0mdf\u001b[0m\u001b[1;33m.\u001b[0m\u001b[0mgeometry\u001b[0m\u001b[1;33m.\u001b[0m\u001b[0mto_crs\u001b[0m\u001b[1;33m(\u001b[0m\u001b[0mcrs\u001b[0m\u001b[1;33m=\u001b[0m\u001b[0mcrs\u001b[0m\u001b[1;33m,\u001b[0m \u001b[0mepsg\u001b[0m\u001b[1;33m=\u001b[0m\u001b[0mepsg\u001b[0m\u001b[1;33m)\u001b[0m\u001b[1;33m\u001b[0m\u001b[1;33m\u001b[0m\u001b[0m\n\u001b[0m\u001b[0;32m   1365\u001b[0m         \u001b[0mdf\u001b[0m\u001b[1;33m.\u001b[0m\u001b[0mgeometry\u001b[0m \u001b[1;33m=\u001b[0m \u001b[0mgeom\u001b[0m\u001b[1;33m\u001b[0m\u001b[1;33m\u001b[0m\u001b[0m\n\u001b[0;32m   1366\u001b[0m         \u001b[1;32mif\u001b[0m \u001b[1;32mnot\u001b[0m \u001b[0minplace\u001b[0m\u001b[1;33m:\u001b[0m\u001b[1;33m\u001b[0m\u001b[1;33m\u001b[0m\u001b[0m\n",
      "\u001b[1;32m~\\anaconda3\\lib\\site-packages\\geopandas\\geoseries.py\u001b[0m in \u001b[0;36mto_crs\u001b[1;34m(self, crs, epsg)\u001b[0m\n\u001b[0;32m   1122\u001b[0m         \"\"\"\n\u001b[0;32m   1123\u001b[0m         return GeoSeries(\n\u001b[1;32m-> 1124\u001b[1;33m             \u001b[0mself\u001b[0m\u001b[1;33m.\u001b[0m\u001b[0mvalues\u001b[0m\u001b[1;33m.\u001b[0m\u001b[0mto_crs\u001b[0m\u001b[1;33m(\u001b[0m\u001b[0mcrs\u001b[0m\u001b[1;33m=\u001b[0m\u001b[0mcrs\u001b[0m\u001b[1;33m,\u001b[0m \u001b[0mepsg\u001b[0m\u001b[1;33m=\u001b[0m\u001b[0mepsg\u001b[0m\u001b[1;33m)\u001b[0m\u001b[1;33m,\u001b[0m \u001b[0mindex\u001b[0m\u001b[1;33m=\u001b[0m\u001b[0mself\u001b[0m\u001b[1;33m.\u001b[0m\u001b[0mindex\u001b[0m\u001b[1;33m,\u001b[0m \u001b[0mname\u001b[0m\u001b[1;33m=\u001b[0m\u001b[0mself\u001b[0m\u001b[1;33m.\u001b[0m\u001b[0mname\u001b[0m\u001b[1;33m\u001b[0m\u001b[1;33m\u001b[0m\u001b[0m\n\u001b[0m\u001b[0;32m   1125\u001b[0m         )\n\u001b[0;32m   1126\u001b[0m \u001b[1;33m\u001b[0m\u001b[0m\n",
      "\u001b[1;32m~\\anaconda3\\lib\\site-packages\\geopandas\\array.py\u001b[0m in \u001b[0;36mto_crs\u001b[1;34m(self, crs, epsg)\u001b[0m\n\u001b[0;32m    777\u001b[0m         \u001b[0mtransformer\u001b[0m \u001b[1;33m=\u001b[0m \u001b[0mTransformer\u001b[0m\u001b[1;33m.\u001b[0m\u001b[0mfrom_crs\u001b[0m\u001b[1;33m(\u001b[0m\u001b[0mself\u001b[0m\u001b[1;33m.\u001b[0m\u001b[0mcrs\u001b[0m\u001b[1;33m,\u001b[0m \u001b[0mcrs\u001b[0m\u001b[1;33m,\u001b[0m \u001b[0malways_xy\u001b[0m\u001b[1;33m=\u001b[0m\u001b[1;32mTrue\u001b[0m\u001b[1;33m)\u001b[0m\u001b[1;33m\u001b[0m\u001b[1;33m\u001b[0m\u001b[0m\n\u001b[0;32m    778\u001b[0m \u001b[1;33m\u001b[0m\u001b[0m\n\u001b[1;32m--> 779\u001b[1;33m         \u001b[0mnew_data\u001b[0m \u001b[1;33m=\u001b[0m \u001b[0mvectorized\u001b[0m\u001b[1;33m.\u001b[0m\u001b[0mtransform\u001b[0m\u001b[1;33m(\u001b[0m\u001b[0mself\u001b[0m\u001b[1;33m.\u001b[0m\u001b[0mdata\u001b[0m\u001b[1;33m,\u001b[0m \u001b[0mtransformer\u001b[0m\u001b[1;33m.\u001b[0m\u001b[0mtransform\u001b[0m\u001b[1;33m)\u001b[0m\u001b[1;33m\u001b[0m\u001b[1;33m\u001b[0m\u001b[0m\n\u001b[0m\u001b[0;32m    780\u001b[0m         \u001b[1;32mreturn\u001b[0m \u001b[0mGeometryArray\u001b[0m\u001b[1;33m(\u001b[0m\u001b[0mnew_data\u001b[0m\u001b[1;33m,\u001b[0m \u001b[0mcrs\u001b[0m\u001b[1;33m=\u001b[0m\u001b[0mcrs\u001b[0m\u001b[1;33m)\u001b[0m\u001b[1;33m\u001b[0m\u001b[1;33m\u001b[0m\u001b[0m\n\u001b[0;32m    781\u001b[0m \u001b[1;33m\u001b[0m\u001b[0m\n",
      "\u001b[1;32m~\\anaconda3\\lib\\site-packages\\geopandas\\_vectorized.py\u001b[0m in \u001b[0;36mtransform\u001b[1;34m(data, func)\u001b[0m\n\u001b[0;32m   1112\u001b[0m \u001b[1;33m\u001b[0m\u001b[0m\n\u001b[0;32m   1113\u001b[0m         \u001b[0mcoords_z\u001b[0m \u001b[1;33m=\u001b[0m \u001b[0mget_coordinates\u001b[0m\u001b[1;33m(\u001b[0m\u001b[0mdata\u001b[0m\u001b[1;33m[\u001b[0m\u001b[0mhas_z\u001b[0m\u001b[1;33m]\u001b[0m\u001b[1;33m,\u001b[0m \u001b[0minclude_z\u001b[0m\u001b[1;33m=\u001b[0m\u001b[1;32mTrue\u001b[0m\u001b[1;33m)\u001b[0m\u001b[1;33m\u001b[0m\u001b[1;33m\u001b[0m\u001b[0m\n\u001b[1;32m-> 1114\u001b[1;33m         \u001b[0mnew_coords_z\u001b[0m \u001b[1;33m=\u001b[0m \u001b[0mfunc\u001b[0m\u001b[1;33m(\u001b[0m\u001b[0mcoords_z\u001b[0m\u001b[1;33m[\u001b[0m\u001b[1;33m:\u001b[0m\u001b[1;33m,\u001b[0m \u001b[1;36m0\u001b[0m\u001b[1;33m]\u001b[0m\u001b[1;33m,\u001b[0m \u001b[0mcoords_z\u001b[0m\u001b[1;33m[\u001b[0m\u001b[1;33m:\u001b[0m\u001b[1;33m,\u001b[0m \u001b[1;36m1\u001b[0m\u001b[1;33m]\u001b[0m\u001b[1;33m,\u001b[0m \u001b[0mcoords_z\u001b[0m\u001b[1;33m[\u001b[0m\u001b[1;33m:\u001b[0m\u001b[1;33m,\u001b[0m \u001b[1;36m2\u001b[0m\u001b[1;33m]\u001b[0m\u001b[1;33m)\u001b[0m\u001b[1;33m\u001b[0m\u001b[1;33m\u001b[0m\u001b[0m\n\u001b[0m\u001b[0;32m   1115\u001b[0m         \u001b[0mresult\u001b[0m\u001b[1;33m[\u001b[0m\u001b[0mhas_z\u001b[0m\u001b[1;33m]\u001b[0m \u001b[1;33m=\u001b[0m \u001b[0mset_coordinates\u001b[0m\u001b[1;33m(\u001b[0m\u001b[0mdata\u001b[0m\u001b[1;33m[\u001b[0m\u001b[0mhas_z\u001b[0m\u001b[1;33m]\u001b[0m\u001b[1;33m.\u001b[0m\u001b[0mcopy\u001b[0m\u001b[1;33m(\u001b[0m\u001b[1;33m)\u001b[0m\u001b[1;33m,\u001b[0m \u001b[0mnp\u001b[0m\u001b[1;33m.\u001b[0m\u001b[0marray\u001b[0m\u001b[1;33m(\u001b[0m\u001b[0mnew_coords_z\u001b[0m\u001b[1;33m)\u001b[0m\u001b[1;33m.\u001b[0m\u001b[0mT\u001b[0m\u001b[1;33m)\u001b[0m\u001b[1;33m\u001b[0m\u001b[1;33m\u001b[0m\u001b[0m\n\u001b[0;32m   1116\u001b[0m \u001b[1;33m\u001b[0m\u001b[0m\n",
      "\u001b[1;32m~\\anaconda3\\lib\\site-packages\\pyproj\\transformer.py\u001b[0m in \u001b[0;36mtransform\u001b[1;34m(self, xx, yy, zz, tt, radians, errcheck, direction)\u001b[0m\n\u001b[0;32m    428\u001b[0m             \u001b[0mintime\u001b[0m \u001b[1;33m=\u001b[0m \u001b[1;32mNone\u001b[0m\u001b[1;33m\u001b[0m\u001b[1;33m\u001b[0m\u001b[0m\n\u001b[0;32m    429\u001b[0m         \u001b[1;31m# call pj_transform.  inx,iny,inz buffers modified in place.\u001b[0m\u001b[1;33m\u001b[0m\u001b[1;33m\u001b[0m\u001b[0m\n\u001b[1;32m--> 430\u001b[1;33m         self._transformer._transform(\n\u001b[0m\u001b[0;32m    431\u001b[0m             \u001b[0minx\u001b[0m\u001b[1;33m,\u001b[0m\u001b[1;33m\u001b[0m\u001b[1;33m\u001b[0m\u001b[0m\n\u001b[0;32m    432\u001b[0m             \u001b[0miny\u001b[0m\u001b[1;33m,\u001b[0m\u001b[1;33m\u001b[0m\u001b[1;33m\u001b[0m\u001b[0m\n",
      "\u001b[1;32mpyproj/_transformer.pyx\u001b[0m in \u001b[0;36mpyproj._transformer._Transformer._transform\u001b[1;34m()\u001b[0m\n",
      "\u001b[1;31mProjError\u001b[0m: x, y, z, and time must be same size"
     ]
    }
   ],
   "source": [
    "# ploteamos esta versión proyectada, la que es \"mejor\"\n",
    "baseBolvia32719 = Bolivia.to_crs(24891).plot()\n",
    "gpd.GeoSeries([centroide_Bolivia]).plot(color='red', ax=baseBolvia32719, markersize=50)"
   ]
  },
  {
   "cell_type": "code",
   "execution_count": null,
   "id": "b05fc27d",
   "metadata": {},
   "outputs": [],
   "source": []
  },
  {
   "cell_type": "code",
   "execution_count": null,
   "id": "c1aaf0ce",
   "metadata": {},
   "outputs": [],
   "source": []
  },
  {
   "cell_type": "code",
   "execution_count": null,
   "id": "5b1e2862",
   "metadata": {},
   "outputs": [],
   "source": []
  },
  {
   "cell_type": "code",
   "execution_count": null,
   "id": "5b3c8a3d",
   "metadata": {},
   "outputs": [],
   "source": [
    "crs_proyeccion = 'EPSG:32719'\n",
    "\n"
   ]
  },
  {
   "cell_type": "code",
   "execution_count": null,
   "id": "be52c9a6",
   "metadata": {},
   "outputs": [],
   "source": [
    "Bolivia = Bolivia.dropna()  # Eliminar filas con valores nulos\n",
    "Bolivia = Bolivia[Bolivia.is_valid]  # Eliminar geometrías inválidas"
   ]
  },
  {
   "cell_type": "code",
   "execution_count": null,
   "id": "1fc28f4e",
   "metadata": {},
   "outputs": [],
   "source": [
    "Bolivia"
   ]
  },
  {
   "cell_type": "code",
   "execution_count": null,
   "id": "e0ee6d89",
   "metadata": {},
   "outputs": [],
   "source": [
    "# Verificar si hay una fila con geometría multipoligonal\n",
    "if Bolivia[\"geometry\"].geom_type.any() == \"MultiPolygon\":\n",
    "    # Convertir el multipolígono en polígonos individuales\n",
    "    Bolivia[\"geometry\"] = Bolivia[\"geometry\"].explode()"
   ]
  },
  {
   "cell_type": "code",
   "execution_count": null,
   "id": "96e3cd25",
   "metadata": {},
   "outputs": [],
   "source": [
    "Bolivia = Bolivia.drop(8)\n",
    "Bolivia"
   ]
  },
  {
   "cell_type": "code",
   "execution_count": null,
   "id": "4333eee6",
   "metadata": {},
   "outputs": [],
   "source": [
    "Bolivia.to_crs(32719).crs.axis_info\n",
    "\n"
   ]
  },
  {
   "cell_type": "code",
   "execution_count": null,
   "id": "4306aa4f",
   "metadata": {},
   "outputs": [],
   "source": []
  },
  {
   "cell_type": "code",
   "execution_count": null,
   "id": "950bdc79",
   "metadata": {},
   "outputs": [],
   "source": []
  },
  {
   "cell_type": "code",
   "execution_count": null,
   "id": "b61f08f5",
   "metadata": {},
   "outputs": [],
   "source": []
  },
  {
   "cell_type": "code",
   "execution_count": null,
   "id": "855c5ec0",
   "metadata": {},
   "outputs": [],
   "source": [
    "crs_proyeccion = 'EPSG:32719'\n",
    "Bolivia.crs=crs_proyeccion\n",
    "Bolivia.crs"
   ]
  },
  {
   "cell_type": "code",
   "execution_count": null,
   "id": "5067c96f",
   "metadata": {},
   "outputs": [],
   "source": [
    "# Transformar el CRS al proyectado en metros\n",
    "Bolivia_proyectado = Bolivia.to_crs(crs)\n",
    "\n",
    "# Calcular el centroide en el CRS proyectado\n",
    "centroides_proyectados = Bolivia_proyectado.centroid\n",
    "\n",
    "# Mostrar los resultados\n",
    "print(centroides_proyectados)"
   ]
  },
  {
   "cell_type": "code",
   "execution_count": null,
   "id": "448e3ed2",
   "metadata": {},
   "outputs": [],
   "source": [
    "Bolivia.to_crs(32719).crs.axis_info"
   ]
  },
  {
   "cell_type": "code",
   "execution_count": null,
   "id": "1898b188",
   "metadata": {},
   "outputs": [],
   "source": [
    "# Realizar la transformación del CRS\n",
    "Bolivia_proyectado = Bolivia.to_crs(crs)\n",
    "\n",
    "# Calcular el centroide en el CRS proyectado\n",
    "centroides_proyectados = Bolivia_proyectado.centroid\n",
    "\n",
    "# Mostrar los resultados\n",
    "print(centroides_proyectados)"
   ]
  },
  {
   "cell_type": "code",
   "execution_count": null,
   "id": "fbd06e80",
   "metadata": {},
   "outputs": [],
   "source": [
    "#obtenemos el centroide del nuestro país\n",
    "centroide_Bolivia = Bolivia_proyectado.geometry.unary_union.centroid\n",
    "\n",
    "#imprimimos las coordenadas del centroide del nuestro país\n",
    "print(centroide_Bolivia.x, centroide_Bolivia.y)"
   ]
  },
  {
   "cell_type": "code",
   "execution_count": null,
   "id": "de1f4276",
   "metadata": {},
   "outputs": [],
   "source": [
    "# ploteamos esta versión proyectada, la que es \"mejor\"\n",
    "baseBolivia32719 = Bolivia.to_crs(32719).plot()\n",
    "gpd.GeoSeries([centroideBoliviaProyectado32719]).plot(color='red', ax=baseBolivia32719, markersize=50)"
   ]
  },
  {
   "cell_type": "code",
   "execution_count": null,
   "id": "6f6a2b8a",
   "metadata": {},
   "outputs": [],
   "source": []
  },
  {
   "cell_type": "code",
   "execution_count": null,
   "id": "9f0d9a40",
   "metadata": {},
   "outputs": [],
   "source": []
  },
  {
   "cell_type": "code",
   "execution_count": null,
   "id": "79d30ee3",
   "metadata": {},
   "outputs": [],
   "source": [
    "BoliviaProyectado32719 = Bolivia.to_crs(32719)"
   ]
  },
  {
   "cell_type": "code",
   "execution_count": null,
   "id": "86113799",
   "metadata": {},
   "outputs": [],
   "source": [
    "Bolivia"
   ]
  },
  {
   "cell_type": "code",
   "execution_count": null,
   "id": "6c9d1f03",
   "metadata": {},
   "outputs": [],
   "source": [
    "centroideBoliviaProyectado32719 = BoliviaProyectado32719.geometry.unary_union.centroid"
   ]
  },
  {
   "cell_type": "code",
   "execution_count": null,
   "id": "924b9f78",
   "metadata": {},
   "outputs": [],
   "source": [
    "print(centroideBoliviaProyectado32719.x, centroideBoliviaProyectado32719.y)"
   ]
  },
  {
   "cell_type": "code",
   "execution_count": null,
   "id": "4bc7c7ff",
   "metadata": {},
   "outputs": [],
   "source": []
  },
  {
   "cell_type": "code",
   "execution_count": null,
   "id": "548d1385",
   "metadata": {},
   "outputs": [],
   "source": []
  },
  {
   "cell_type": "code",
   "execution_count": null,
   "id": "7f8c5be8",
   "metadata": {},
   "outputs": [],
   "source": [
    "# Proyección del mapa\n",
    "crs_proyectado = 'EPSG:32719'  # CRS proyectado para Bolivia (UTM Zone 19S)\n",
    "\n",
    "# Proyectar el GeoDataFrame a la proyección deseada\n",
    "Bolivia_proyectado = Bolivia.to_crs(crs_proyectado)\n"
   ]
  },
  {
   "cell_type": "code",
   "execution_count": null,
   "id": "8ad57817",
   "metadata": {},
   "outputs": [],
   "source": [
    "\n",
    "\n",
    "#buscamos una proyeccion mucho más precisa, en el caso de Bolivia, la mejor proyeccion es la \"4674\"\n",
    "Bolivia.to_crs(32719).crs.axis_info"
   ]
  },
  {
   "cell_type": "code",
   "execution_count": null,
   "id": "abc4d4d6",
   "metadata": {},
   "outputs": [],
   "source": [
    "Bolivia.crs"
   ]
  },
  {
   "cell_type": "code",
   "execution_count": null,
   "id": "a4f65bb8",
   "metadata": {},
   "outputs": [],
   "source": [
    "#cargamos la capa del archivo geopackage\n",
    "capaBolivia = gpd.read_file(BoliviaMapas)\n",
    "\n",
    "# miramos el mapa de nuestro país elegido\n",
    "baseMapa = Bolivia.plot(facecolor=\"greenyellow\", edgecolor='black', linewidth=0.4,figsize=(5,5))\n",
    "cities.plot(marker='D', color='red', markersize=15,ax=baseMapa)\n",
    "rivers.plot(edgecolor='blue', linewidth=0.3,ax=baseMapa)\n",
    "\n",
    "# agregamos título a nuestro mapa del país: \"Bolivia\"\n",
    "baseMapa.set_title(\"Mapa del Bolivia\", fontsize=14)"
   ]
  }
 ],
 "metadata": {
  "kernelspec": {
   "display_name": "Python 3 (ipykernel)",
   "language": "python",
   "name": "python3"
  },
  "language_info": {
   "codemirror_mode": {
    "name": "ipython",
    "version": 3
   },
   "file_extension": ".py",
   "mimetype": "text/x-python",
   "name": "python",
   "nbconvert_exporter": "python",
   "pygments_lexer": "ipython3",
   "version": "3.9.13"
  }
 },
 "nbformat": 4,
 "nbformat_minor": 5
}
