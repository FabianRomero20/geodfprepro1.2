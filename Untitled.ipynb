{
 "cells": [
  {
   "cell_type": "code",
   "execution_count": 1,
   "id": "1c34cd30",
   "metadata": {},
   "outputs": [
    {
     "data": {
      "text/plain": [
       "['countries', 'cities', 'rivers']"
      ]
     },
     "execution_count": 1,
     "metadata": {},
     "output_type": "execute_result"
    }
   ],
   "source": [
    "import geopandas as gpd\n",
    "from  fiona import listlayers\n",
    "\n",
    "#mapas\n",
    "worldMaps='https://github.com/FabianRomero20/geodfprepro1.2/raw/main/maps/worldMaps.gpkg'\n",
    "\n",
    "#capas en los mapas\n",
    "listlayers(worldMaps)"
   ]
  },
  {
   "cell_type": "code",
   "execution_count": 2,
   "id": "c34f85ac",
   "metadata": {},
   "outputs": [],
   "source": [
    "de=gpd.read_file(worldMaps,layer='countries')\n",
    "cities=gpd.read_file(worldMaps,layer='cities')\n",
    "rivers=gpd.read_file(worldMaps,layer='rivers')"
   ]
  },
  {
   "cell_type": "code",
   "execution_count": 3,
   "id": "3543ff08",
   "metadata": {},
   "outputs": [
    {
     "data": {
      "text/plain": [
       "True"
      ]
     },
     "execution_count": 3,
     "metadata": {},
     "output_type": "execute_result"
    }
   ],
   "source": [
    "countries.crs.to_epsg()==cities.crs.to_epsg()==rivers.crs.to_epsg()"
   ]
  },
  {
   "cell_type": "code",
   "execution_count": null,
   "id": "f711c0a0",
   "metadata": {},
   "outputs": [],
   "source": [
    "# solo La Paz\n",
    "la_paz=countries[countries.COUNTRY=='Brazil']\n",
    "\n",
    "# clipping\n",
    "brazil_cities= gpd.clip(gdf=cities,mask=brazil)\n",
    "brazil_rivers = gpd.clip(gdf=rivers,mask=brazil)\n",
    "\n",
    "# plotting\n",
    "base = brazil.plot(facecolor=\"greenyellow\")\n",
    "brazil_rivers.plot(edgecolor='blue', linewidth=0.5,ax=base)\n",
    "brazil_cities.plot(marker='+', color='red', markersize=15,ax=base)"
   ]
  }
 ],
 "metadata": {
  "kernelspec": {
   "display_name": "Python 3 (ipykernel)",
   "language": "python",
   "name": "python3"
  },
  "language_info": {
   "codemirror_mode": {
    "name": "ipython",
    "version": 3
   },
   "file_extension": ".py",
   "mimetype": "text/x-python",
   "name": "python",
   "nbconvert_exporter": "python",
   "pygments_lexer": "ipython3",
   "version": "3.9.13"
  }
 },
 "nbformat": 4,
 "nbformat_minor": 5
}
